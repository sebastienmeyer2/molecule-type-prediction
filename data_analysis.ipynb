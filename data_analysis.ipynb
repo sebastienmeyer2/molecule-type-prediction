{
 "cells": [
  {
   "cell_type": "markdown",
   "id": "7389e84f",
   "metadata": {},
   "source": [
    "# Short analysis of the molecule data\n",
    "\n",
    "Sébastien MEYER"
   ]
  },
  {
   "cell_type": "code",
   "execution_count": null,
   "id": "7c242256",
   "metadata": {},
   "outputs": [],
   "source": [
    "import pickle\n",
    "\n",
    "import numpy as np\n",
    "\n",
    "import networkx as nx\n",
    "\n",
    "import matplotlib.pyplot as plt\n",
    "import seaborn as sns"
   ]
  },
  {
   "cell_type": "markdown",
   "id": "89fa3d12",
   "metadata": {},
   "source": [
    "# Distribution plots"
   ]
  },
  {
   "cell_type": "code",
   "execution_count": null,
   "id": "38beae21",
   "metadata": {},
   "outputs": [],
   "source": [
    "graph_list_train = pickle.load(open(\"data/training_data.pkl\", \"rb\"))\n",
    "graph_list_test = pickle.load(open(\"data/test_data.pkl\", \"rb\"))\n",
    "    \n",
    "graph_lists = [graph_list_train, graph_list_test]\n",
    "graph_names = [\"train\", \"test\"]    \n",
    "\n",
    "for graph_list, graph_name in zip(graph_lists, graph_names):\n",
    "\n",
    "    print(f\"There are {len(graph_list)} graphs in the {graph_name} set.\")"
   ]
  },
  {
   "cell_type": "code",
   "execution_count": null,
   "id": "6c604651",
   "metadata": {},
   "outputs": [],
   "source": [
    "for graph_list, graph_name in zip(graph_lists, graph_names):\n",
    "\n",
    "    nb_nodes_list = [graph.number_of_nodes() for graph in graph_list]\n",
    "\n",
    "    mean_nb_nodes = np.mean(nb_nodes_list)\n",
    "    min_nb_nodes = np.min(nb_nodes_list)\n",
    "    max_nb_nodes = np.max(nb_nodes_list)\n",
    "\n",
    "    fig, ax = plt.subplots(figsize=(8, 6), constrained_layout=True)\n",
    "\n",
    "    sns.histplot(nb_nodes_list, stat=\"density\", bins=50, fill=True, alpha=0.6, ax=ax)\n",
    "\n",
    "    sns.kdeplot(nb_nodes_list, color=\"black\", ax=ax)\n",
    "\n",
    "    ax.axvline(mean_nb_nodes, color=\"red\")\n",
    "    ax.text(mean_nb_nodes+1, 0.05, f\"mean: {mean_nb_nodes:.2f}\")\n",
    "\n",
    "    ax.set_xlabel(\"Number of nodes (atoms)\")\n",
    "    ax.set_title(f\"Number of nodes in {graph_name} set\")\n",
    "\n",
    "    print(f\"Minimal number of nodes is {min_nb_nodes} in {graph_name} set\")\n",
    "    print(f\"Maximal number of nodes is {max_nb_nodes} in {graph_name} set\")    \n",
    "    \n",
    "    plt.show()"
   ]
  },
  {
   "cell_type": "code",
   "execution_count": null,
   "id": "04df5f69",
   "metadata": {},
   "outputs": [],
   "source": [
    "for graph_list, graph_name in zip(graph_lists, graph_names):\n",
    "\n",
    "    atoms_list = [graph.nodes[i][\"labels\"][0] for graph in graph_list for i in range(graph.number_of_nodes())]\n",
    "\n",
    "    unique_atoms, atoms_counts = np.unique(atoms_list, return_counts=True)\n",
    "    nb_unique_atoms = len(unique_atoms)\n",
    "    min_atom = np.min(unique_atoms)\n",
    "    max_atom = np.max(unique_atoms)\n",
    "\n",
    "    atoms_dist = {atom: atom_count for atom, atom_count in zip(unique_atoms, atoms_counts)}\n",
    "    atoms_dist = {k: v for k, v in sorted(atoms_dist.items(), key=lambda item: item[1], reverse=True)}\n",
    "\n",
    "    print(f\"There are {nb_unique_atoms} unique atoms in {graph_name} set ranging from {min_atom} to {max_atom}\")\n",
    "    print(f\"Their distribution for {graph_name} set is {atoms_dist}\")"
   ]
  },
  {
   "cell_type": "code",
   "execution_count": null,
   "id": "42512e88",
   "metadata": {},
   "outputs": [],
   "source": [
    "for graph_list, graph_name in zip(graph_lists, graph_names):\n",
    "\n",
    "    nb_edges_list = [graph.number_of_edges() for graph in graph_list]\n",
    "\n",
    "    mean_nb_edges = np.mean(nb_edges_list)\n",
    "    min_nb_edges = np.min(nb_edges_list)\n",
    "    max_nb_edges = np.max(nb_edges_list)\n",
    "    \n",
    "    fig, ax = plt.subplots(figsize=(8, 6), constrained_layout=True)\n",
    "\n",
    "    sns.histplot(nb_edges_list, stat=\"density\", bins=50, fill=True, alpha=0.6, ax=ax)\n",
    "\n",
    "    sns.kdeplot(nb_edges_list, color=\"black\", ax=ax)\n",
    "\n",
    "    ax.axvline(mean_nb_edges, color=\"red\")\n",
    "    ax.text(mean_nb_edges+1, 0.04, f\"mean: {mean_nb_edges:.2f}\")\n",
    "\n",
    "    ax.set_xlabel(\"Number of edges (atoms)\")\n",
    "    ax.set_title(f\"Number of edges in {graph_name} set\")\n",
    "\n",
    "    print(f\"Minimal number of edges is {min_nb_edges} in {graph_name} set\")\n",
    "    print(f\"Maximal number of edges is {max_nb_edges} in {graph_name} set\")   \n",
    "    \n",
    "    plt.show()"
   ]
  },
  {
   "cell_type": "code",
   "execution_count": null,
   "id": "2a032aa7",
   "metadata": {},
   "outputs": [],
   "source": [
    "edges_list = [graph_list[42].edges[e][\"labels\"][0] for e in graph_list[42].edges()]"
   ]
  },
  {
   "cell_type": "code",
   "execution_count": null,
   "id": "5a193f40",
   "metadata": {},
   "outputs": [],
   "source": [
    "for graph_list, graph_name in zip(graph_lists, graph_names):\n",
    "\n",
    "    edges_list = np.array([graph.number_of_edges() for graph in graph_list])\n",
    "\n",
    "    nb_graph_with_no_edge = np.sum(edges_list <= 0)\n",
    "    \n",
    "    print(f\"There are {nb_graph_with_no_edge} molecules without edges in {graph_name} set\")"
   ]
  },
  {
   "cell_type": "code",
   "execution_count": null,
   "id": "f7647205",
   "metadata": {},
   "outputs": [],
   "source": [
    "for graph_list, graph_name in zip(graph_lists, graph_names):\n",
    "    \n",
    "    connected_list = np.array([nx.is_connected(graph) for graph in graph_list])\n",
    "    \n",
    "    nb_unco_graphs = np.sum(connected_list)\n",
    "    \n",
    "    print(f\"There are {nb_unco_graphs} unconnected graphs in {graph_name} set\")"
   ]
  },
  {
   "cell_type": "code",
   "execution_count": null,
   "id": "553df2d2",
   "metadata": {},
   "outputs": [],
   "source": [
    "y_train = pickle.load(open(\"data/training_labels.pkl\", \"rb\"))\n",
    "print(np.unique(y_train, return_counts=True))"
   ]
  },
  {
   "cell_type": "markdown",
   "id": "e54dbb90",
   "metadata": {},
   "source": [
    "---"
   ]
  }
 ],
 "metadata": {
  "kernelspec": {
   "display_name": "win-kmlproject",
   "language": "python",
   "name": "win-kmlproject"
  },
  "language_info": {
   "codemirror_mode": {
    "name": "ipython",
    "version": 3
   },
   "file_extension": ".py",
   "mimetype": "text/x-python",
   "name": "python",
   "nbconvert_exporter": "python",
   "pygments_lexer": "ipython3",
   "version": "3.9.5"
  }
 },
 "nbformat": 4,
 "nbformat_minor": 5
}
